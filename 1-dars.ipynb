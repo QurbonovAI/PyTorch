{
 "cells": [
  {
   "cell_type": "code",
   "execution_count": 3,
   "id": "f662edba",
   "metadata": {},
   "outputs": [],
   "source": [
    "# # # PyTorch asoslari\n",
    "#  * PyTorch overview (NIma va qayerda ishlatiladi)\n",
    "#  * Tensor tushunchasi\n",
    "#    * Tensor yaratish usullari (torch.tensor , torch.zeros , torch.ones, torch.rand)\n",
    "#    * Tensor shape,  o'lchamlari (view, reshape)\n",
    "#    * Indexing, slicing, concatenation\n",
    "#    * GPU (CUDA) va CPUda ishlatish\n",
    "#  * Tensor va Numpy bilan ishlash (convert qilish)\n",
    "\n"
   ]
  },
  {
   "cell_type": "code",
   "execution_count": 4,
   "id": "f976d37e",
   "metadata": {},
   "outputs": [],
   "source": [
    "# Tensor tushunchasi:\n",
    "# Tensor bu ko'p o'lchamli massiv (multi-dimensional array)\n",
    "# 0D tensor = skalyar (5)\n",
    "# 1D Tensor = vektor ([1,2,3])\n",
    "# 2D Tensor = matrix ([[1,2],[3,4]])\n",
    "# 3D+ Tensor Ko'p o'lchamli massiv (masalan, rasmlar uchun [batch, channel, height  , width])\n",
    "\n",
    "# PYtorch tensor GPU da ishlay oladi, bu juda katta farq Numpy dan\n",
    "\n",
    "\n",
    "# Tensor \n",
    "import torch"
   ]
  },
  {
   "cell_type": "code",
   "execution_count": 5,
   "id": "24a53bea",
   "metadata": {},
   "outputs": [
    {
     "name": "stdout",
     "output_type": "stream",
     "text": [
      "PyTorch versiyasi: 2.8.0+cpu\n",
      "CUDA mavjudmi?: False\n"
     ]
    },
    {
     "data": {
      "text/plain": [
       "tensor([1, 2, 3, 4])"
      ]
     },
     "execution_count": 5,
     "metadata": {},
     "output_type": "execute_result"
    }
   ],
   "source": [
    "import torch\n",
    "\n",
    "print(\"PyTorch versiyasi:\", torch.__version__)\n",
    "print(\"CUDA mavjudmi?:\", torch.cuda.is_available())\n",
    "# Agar CUDA bo'lsa True bo'ladi aks holda False qayatadi\n",
    "\n",
    "x = torch.tensor([1,2,3,4])\n",
    "x"
   ]
  },
  {
   "cell_type": "code",
   "execution_count": 6,
   "id": "99764830",
   "metadata": {},
   "outputs": [
    {
     "data": {
      "text/plain": [
       "tensor([1, 2, 3])"
      ]
     },
     "execution_count": 6,
     "metadata": {},
     "output_type": "execute_result"
    }
   ],
   "source": [
    "# Oddiy tensor yaraatish\n",
    "a = torch.tensor([1,2,3])\n",
    "a"
   ]
  },
  {
   "cell_type": "code",
   "execution_count": 7,
   "id": "2dddc015",
   "metadata": {},
   "outputs": [
    {
     "data": {
      "text/plain": [
       "tensor([[1., 2.],\n",
       "        [3., 4.]])"
      ]
     },
     "execution_count": 7,
     "metadata": {},
     "output_type": "execute_result"
    }
   ],
   "source": [
    "# Float tipida tensor yaratish\n",
    "b = torch.tensor([[1.0,2.0] , [3.0,4.0]] , dtype=torch.float32)\n",
    "b"
   ]
  },
  {
   "cell_type": "code",
   "execution_count": 8,
   "id": "5f8c0e7c",
   "metadata": {},
   "outputs": [
    {
     "data": {
      "text/plain": [
       "tensor([[0., 0., 0.],\n",
       "        [0., 0., 0.]])"
      ]
     },
     "execution_count": 8,
     "metadata": {},
     "output_type": "execute_result"
    }
   ],
   "source": [
    "# Nol bilan to'ldirish\n",
    "c = torch.zeros(2,3)\n",
    "c"
   ]
  },
  {
   "cell_type": "code",
   "execution_count": 9,
   "id": "eea99b28",
   "metadata": {},
   "outputs": [
    {
     "data": {
      "text/plain": [
       "tensor([[1., 1., 1.],\n",
       "        [1., 1., 1.]])"
      ]
     },
     "execution_count": 9,
     "metadata": {},
     "output_type": "execute_result"
    }
   ],
   "source": [
    "# Birlar bilan tensor yaratish\n",
    "d = torch.ones(2,3)\n",
    "d"
   ]
  },
  {
   "cell_type": "code",
   "execution_count": 10,
   "id": "b818052e",
   "metadata": {},
   "outputs": [
    {
     "data": {
      "text/plain": [
       "tensor([[0.9246, 0.4089, 0.3209],\n",
       "        [0.1063, 0.1889, 0.2747],\n",
       "        [0.4623, 0.0361, 0.9351]])"
      ]
     },
     "execution_count": 10,
     "metadata": {},
     "output_type": "execute_result"
    }
   ],
   "source": [
    "# Random sonlar bilan yaratish\n",
    "e =  torch.rand(3,3)\n",
    "e"
   ]
  },
  {
   "cell_type": "code",
   "execution_count": 11,
   "id": "e68952c8",
   "metadata": {},
   "outputs": [
    {
     "data": {
      "text/plain": [
       "tensor([[4, 6, 5],\n",
       "        [8, 9, 4]])"
      ]
     },
     "execution_count": 11,
     "metadata": {},
     "output_type": "execute_result"
    }
   ],
   "source": [
    "# Butun sonli random\n",
    "f = torch.randint(0,10 ,(2,3))\n",
    "f"
   ]
  },
  {
   "cell_type": "markdown",
   "id": "23693e40",
   "metadata": {},
   "source": [
    "Tensor shape, o'lchamlar"
   ]
  },
  {
   "cell_type": "code",
   "execution_count": 12,
   "id": "4373d3f2",
   "metadata": {},
   "outputs": [
    {
     "data": {
      "text/plain": [
       "torch.Size([2, 3])"
      ]
     },
     "execution_count": 12,
     "metadata": {},
     "output_type": "execute_result"
    }
   ],
   "source": [
    "x = torch.rand(2,3)\n",
    "x.shape # shape bu ustun va qatorlar sonini qaytaradi\n"
   ]
  },
  {
   "cell_type": "code",
   "execution_count": 13,
   "id": "9f51dceb",
   "metadata": {},
   "outputs": [
    {
     "data": {
      "text/plain": [
       "torch.Size([3, 2])"
      ]
     },
     "execution_count": 13,
     "metadata": {},
     "output_type": "execute_result"
    }
   ],
   "source": [
    "# Rashape qilish\n",
    "y = x.reshape(3,2)\n",
    "y.shape"
   ]
  },
  {
   "cell_type": "code",
   "execution_count": null,
   "id": "437a2313",
   "metadata": {},
   "outputs": [
    {
     "data": {
      "text/plain": [
       "torch.Size([1, 6])"
      ]
     },
     "execution_count": 14,
     "metadata": {},
     "output_type": "execute_result"
    }
   ],
   "source": [
    "z = x.view(-1,6)\n",
    "z.shape"
   ]
  },
  {
   "cell_type": "markdown",
   "id": "835a1d75",
   "metadata": {},
   "source": [
    "Indexing, slicing, concatenation"
   ]
  },
  {
   "cell_type": "code",
   "execution_count": null,
   "id": "e2f5ec17",
   "metadata": {},
   "outputs": [
    {
     "data": {
      "text/plain": [
       "tensor([3, 6, 9])"
      ]
     },
     "execution_count": 15,
     "metadata": {},
     "output_type": "execute_result"
    }
   ],
   "source": [
    "# Indexing\n",
    "x = torch.tensor([[1,2,3],[4,5,6],[7,8,9]])\n",
    "x[0,0] # 1-element (1)\n",
    "x[1,:] # 2-qatordagi barcha elementlar [4,5,6]\n",
    "x[:, 2] #  3-ustundagi barcha elemenlar [7,8,9]\n"
   ]
  },
  {
   "cell_type": "code",
   "execution_count": 16,
   "id": "a192a3e1",
   "metadata": {},
   "outputs": [
    {
     "data": {
      "text/plain": [
       "tensor([[1., 1.],\n",
       "        [1., 1.],\n",
       "        [0., 0.],\n",
       "        [0., 0.],\n",
       "        [0., 0.]])"
      ]
     },
     "execution_count": 16,
     "metadata": {},
     "output_type": "execute_result"
    }
   ],
   "source": [
    "# Concatenation ikkita tensroni birlashtish\n",
    "a = torch.ones(2,2)\n",
    "b = torch.zeros(3,2)\n",
    "cat = torch.cat((a,b), dim=0) # Qator bo'yicha\n",
    "cat"
   ]
  },
  {
   "cell_type": "markdown",
   "id": "21160904",
   "metadata": {},
   "source": [
    "GPU (CUDA) va CPUda ishlatish"
   ]
  },
  {
   "cell_type": "markdown",
   "id": "d0b412f5",
   "metadata": {},
   "source": []
  },
  {
   "cell_type": "code",
   "execution_count": 17,
   "id": "97c16d3f",
   "metadata": {},
   "outputs": [
    {
     "name": "stdout",
     "output_type": "stream",
     "text": [
      "Ishlatilayotgan device cpu\n"
     ]
    }
   ],
   "source": [
    "# PyTorch GPU ni avtomatik ishlata oladi\n",
    "\n",
    "# Qurilmani tanlash\n",
    "device = torch.device(\"cuda\"  if torch.cuda.is_available() else \"cpu\")\n",
    "\n",
    "print(\"Ishlatilayotgan device\" , device)"
   ]
  },
  {
   "cell_type": "code",
   "execution_count": 18,
   "id": "8ba16b08",
   "metadata": {},
   "outputs": [
    {
     "data": {
      "text/plain": [
       "tensor([[0.7810, 0.3484],\n",
       "        [0.8414, 0.8398]])"
      ]
     },
     "execution_count": 18,
     "metadata": {},
     "output_type": "execute_result"
    }
   ],
   "source": [
    "# tensorni GPU o'tkazish\n",
    "x = torch.rand(2,2).to(device)\n",
    "x"
   ]
  },
  {
   "cell_type": "markdown",
   "id": "8befdcaf",
   "metadata": {},
   "source": [
    "Tensor va numpy bilan ishlash"
   ]
  },
  {
   "cell_type": "code",
   "execution_count": 19,
   "id": "e6d4f81d",
   "metadata": {},
   "outputs": [
    {
     "name": "stdout",
     "output_type": "stream",
     "text": [
      "Tensor:  tensor([1., 1., 1.])\n",
      "Numpy:  [1. 1. 1.]\n"
     ]
    }
   ],
   "source": [
    "# Tensor -> Numpy konvertatsiya qilish juda oson\n",
    "\n",
    "import numpy as np\n",
    "\n",
    "# Tensor -> Numpy\n",
    "\n",
    "t = torch.ones(3)\n",
    "n = t.numpy()\n",
    "print(\"Tensor: \" , t)\n",
    "print(\"Numpy: \" , n)\n"
   ]
  },
  {
   "cell_type": "code",
   "execution_count": 22,
   "id": "fd00ced5",
   "metadata": {},
   "outputs": [
    {
     "name": "stdout",
     "output_type": "stream",
     "text": [
      "Numpy:  [1 2 3]\n",
      "Tensor:  tensor([1, 2, 3])\n"
     ]
    }
   ],
   "source": [
    "# Numpy ni Tensor ga o'tkazish\n",
    "a = np.array([1,2,3])\n",
    "b = torch.from_numpy(a)\n",
    "print(\"Numpy: \" ,  a)\n",
    "print(\"Tensor: \" , b)"
   ]
  }
 ],
 "metadata": {
  "kernelspec": {
   "display_name": "Python 3",
   "language": "python",
   "name": "python3"
  },
  "language_info": {
   "codemirror_mode": {
    "name": "ipython",
    "version": 3
   },
   "file_extension": ".py",
   "mimetype": "text/x-python",
   "name": "python",
   "nbconvert_exporter": "python",
   "pygments_lexer": "ipython3",
   "version": "3.11.9"
  }
 },
 "nbformat": 4,
 "nbformat_minor": 5
}
