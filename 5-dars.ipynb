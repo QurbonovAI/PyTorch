{
 "cells": [
  {
   "cell_type": "markdown",
   "id": "8a28dcff",
   "metadata": {},
   "source": [
    "# Loss Functions\n",
    "* Regression uchun MSELoss , L1Loss\n",
    "* Classification uchun: CrossEntropyLoss, NLLLoss, BCELoss\n",
    "* Kenroq loss funksiyalari (SmoothL1Loss , HuberLoss)"
   ]
  },
  {
   "cell_type": "code",
   "execution_count": 6,
   "id": "bb1208fa",
   "metadata": {},
   "outputs": [
    {
     "name": "stdout",
     "output_type": "stream",
     "text": [
      "0.17000000178813934\n",
      "0.3167787194252014\n"
     ]
    }
   ],
   "source": [
    "\n",
    "# Loss funksiyalari bu model  bashorqat qiymati bilan haqiqiy qiymatni o'rtasidagi farq hisoblanadi\n",
    "# Lolar turlari\n",
    "# Regrssiy uchun loslar MSELoss \n",
    "# Classification uchun loslar CrossEntropyLoss hisoblanadi\n",
    "import torch\n",
    "import torch.nn as nn\n",
    "\n",
    "\n",
    "\n",
    "loss_fn = nn.MSELoss() # Bu Regressiy uchun \n",
    "Cros_entropy_loss = nn.CrossEntropyLoss() # BU classificaton uchun losslar\n",
    "\n",
    "y_pred = torch.tensor([2.5 , 0.0 , 2.1])\n",
    "y_true = torch.tensor([3.0 , -0.5 , 2.0])\n",
    "\n",
    "loss = loss_fn(y_pred , y_true)\n",
    "print(loss.item())\n",
    "\n",
    "\n",
    "# classification uchun \n",
    "loss_fn = nn.CrossEntropyLoss()\n",
    "\n",
    "y_pred = torch.tensor([[2.0, 0.5, 0.1]])   # 3 ta class uchun output\n",
    "y_true = torch.tensor([0])  # to'g'ri javob class 0\n",
    "\n",
    "loss = loss_fn(y_pred, y_true)\n",
    "print(loss.item())\n",
    "\n"
   ]
  }
 ],
 "metadata": {
  "kernelspec": {
   "display_name": ".venv",
   "language": "python",
   "name": "python3"
  },
  "language_info": {
   "codemirror_mode": {
    "name": "ipython",
    "version": 3
   },
   "file_extension": ".py",
   "mimetype": "text/x-python",
   "name": "python",
   "nbconvert_exporter": "python",
   "pygments_lexer": "ipython3",
   "version": "3.13.3"
  }
 },
 "nbformat": 4,
 "nbformat_minor": 5
}
