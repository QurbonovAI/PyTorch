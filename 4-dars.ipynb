{
 "cells": [
  {
   "cell_type": "markdown",
   "id": "2ce1f5aa",
   "metadata": {},
   "source": [
    "# Dataset va DataLoader\n",
    "* torch.utils.data.Dataset va Dataloder\n",
    "* Custom dataset yaratish\n",
    "* Batch, Shuffle, Sampler tushunchalari\n",
    "* torchvision.datasets va transformlar  (transforms.Compose)"
   ]
  },
  {
   "cell_type": "code",
   "execution_count": 1,
   "id": "e485d595",
   "metadata": {},
   "outputs": [],
   "source": [
    "# Dataset va DataLoader PyTorchda\n",
    "\n",
    "# 1.torch.utils.data.Dataset\n",
    "# Nima qilad?\n",
    "# Dataset bu malumotlar to'plami (images , text , tabular data). PyTorchda u class sifatida belgilanadi.\n",
    "# Har bir Dataset 2 ta methodni majburiy aniqlashi kerak:\n",
    "# * __len__() -> nechta sample borligin qaytaradi\n",
    "# * __getitem__(index) -> indeks bo'yicha bitta sample qaytaradi\n",
    "\n",
    "# Oddiy misol\n",
    "from torch.utils.data import Dataset\n",
    "\n",
    "class MyDataset(Dataset):\n",
    "    def __init__(self, data , labels):\n",
    "        self.data = data\n",
    "        self.labels = labels\n",
    "        \n",
    "    def __len__(self):\n",
    "        return len(self.data) # Umumiy uzunlik\n",
    "    \n",
    "    def __getitem__(self, idx):\n",
    "        x = self.data[idx]\n",
    "        y = self.labels[idx]\n",
    "        return x ,y\n",
    "    \n",
    "    "
   ]
  },
  {
   "cell_type": "code",
   "execution_count": null,
   "id": "e018893f",
   "metadata": {},
   "outputs": [],
   "source": [
    "# 2 DataLoader \n",
    "# Nima qiladi?\n",
    "# Datasetni mini-batchlarga bo'lib, traning paytida modelga ketama-ket berib turadi.\n",
    "# Asosiy parametrlari \n",
    "# batch_size -> nechta sample bilan batchga bo'ladi\n",
    "# shuffer=True"
   ]
  }
 ],
 "metadata": {
  "kernelspec": {
   "display_name": "Python 3",
   "language": "python",
   "name": "python3"
  },
  "language_info": {
   "codemirror_mode": {
    "name": "ipython",
    "version": 3
   },
   "file_extension": ".py",
   "mimetype": "text/x-python",
   "name": "python",
   "nbconvert_exporter": "python",
   "pygments_lexer": "ipython3",
   "version": "3.11.9"
  }
 },
 "nbformat": 4,
 "nbformat_minor": 5
}
