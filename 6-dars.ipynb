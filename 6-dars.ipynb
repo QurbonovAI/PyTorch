{
 "cells": [
  {
   "cell_type": "markdown",
   "id": "e5cb2567",
   "metadata": {},
   "source": [
    "# Optimizer\n",
    "* Gredient Descent tushunchasi\n",
    "* PyTorch optimizerlari:\n",
    "  * SGD , Adam , RMSprop, Adagrad\n",
    "* Learning Rate tushunchasi\n",
    "* Learning Rate Schedulers (SpetLR , RediceLROnPlateau)\n"
   ]
  },
  {
   "cell_type": "code",
   "execution_count": null,
   "id": "cb304549",
   "metadata": {},
   "outputs": [],
   "source": [
    "# Optimizer bu model parametrlarini  avtomatik gradientiga qarab yangilab turadigan algorithm \n",
    "\n",
    "# Otimizer turlari bor\n",
    "# Adam eng mashhuri \n",
    "# SGD\n",
    "\n",
    "# Optimizer ni chaqirish \n",
    "import torch.optim as optim\n",
    "\n",
    "# Shu optim ichidan chaqirsa bo'ladi\n",
    "model = None\n",
    "\n",
    "optimizer = optim.Adam(model.paramerts , lr=0.001)\n"
   ]
  },
  {
   "cell_type": "code",
   "execution_count": null,
   "id": "6f195408",
   "metadata": {},
   "outputs": [],
   "source": [
    "# Learning rate tushunchasi bu optimizer ning qadamlar soni hisoblanadi\n",
    "# lr=0.1 bu juda katta qadam model chalchashib ketishi mumkin\n",
    "# lr=0.001 BU juda ko'p qo'lanailadigan va yaxshi raqamlar\n",
    "optimizer = optim.Adam(model.parametrs , lr=0.001)\n",
    "\n"
   ]
  }
 ],
 "metadata": {
  "kernelspec": {
   "display_name": ".venv",
   "language": "python",
   "name": "python3"
  },
  "language_info": {
   "name": "python",
   "version": "3.13.3"
  }
 },
 "nbformat": 4,
 "nbformat_minor": 5
}
