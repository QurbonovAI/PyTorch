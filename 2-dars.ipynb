{
 "cells": [
  {
   "cell_type": "markdown",
   "id": "cd9f32d4",
   "metadata": {},
   "source": [
    "Autograd (Automatic Differentiation)\n",
    "* requires_gred  tushunchasi \n",
    "* Forward va backward  pass\n",
    "* backward() va grad\n",
    "* gradientlarni nolga tushurish (optimizer.zero_grad())\n",
    "* Computational graph tushunchasi"
   ]
  },
  {
   "cell_type": "markdown",
   "id": "5630755b",
   "metadata": {},
   "source": [
    "Autograd (Automatik Differentiation)"
   ]
  },
  {
   "cell_type": "code",
   "execution_count": null,
   "id": "bb1b408b",
   "metadata": {},
   "outputs": [],
   "source": [
    "# Autograd - bu Pytorchning automatik gradient hisoblash mexanizimi. Neyron tarmoqlarni o'qitishda\n",
    "# Backpropagation jarayonida gradientlarni qo'lda     hisoblash kerak emas Pytorch o'zi qialdi\n"
   ]
  },
  {
   "cell_type": "code",
   "execution_count": 2,
   "id": "85a77ca8",
   "metadata": {},
   "outputs": [
    {
     "name": "stdout",
     "output_type": "stream",
     "text": [
      "True\n",
      "True\n"
     ]
    }
   ],
   "source": [
    "# 1. requires_grad tushunchasi\n",
    "# Agar tensor uchun requires_grad=True deb yozsangiz, Pytorch unga nisbatan gradientlarni kuzatadi\n",
    "import torch\n",
    "\n",
    "# requires_grad  = True bo'lsa, Pytorch gradni hisoblaydi\n",
    "x = torch.tensor(2.0 , requires_grad=True)\n",
    "y = x ** 2 # y=x^2\n",
    "\n",
    "\n",
    "print(x.requires_grad) # True\n",
    "print(y.requires_grad) # True (chunki x dan hosil bo'ladi)"
   ]
  },
  {
   "cell_type": "markdown",
   "id": "7a24fb93",
   "metadata": {},
   "source": [
    "Forward va Backward pass\n",
    "* Forward pass - oddiy hisob-kitob (masalan y=x2),\n",
    "* Backward pass - gradientlarni hisobalash"
   ]
  },
  {
   "cell_type": "code",
   "execution_count": 5,
   "id": "462ef634",
   "metadata": {},
   "outputs": [
    {
     "name": "stdout",
     "output_type": "stream",
     "text": [
      "tensor(2.)\n"
     ]
    }
   ],
   "source": [
    "x = torch.tensor(3.0 , requires_grad=True)\n",
    "y = 2*x+5 # Forward pass: y = 2x + 5\n",
    "\n",
    "y.backward() # Backward pass\n",
    "print(x.grad) # dy/dx = 2"
   ]
  },
  {
   "cell_type": "markdown",
   "id": "98e63a7c",
   "metadata": {},
   "source": [
    "3. backward() va .grad\n",
    "* .backward() - gradientlarni hisoblaydi\n",
    "* .grad - bu natijaviy gradientlarni hisoblaydi\n"
   ]
  },
  {
   "cell_type": "code",
   "execution_count": 10,
   "id": "50fbdacc",
   "metadata": {},
   "outputs": [
    {
     "name": "stdout",
     "output_type": "stream",
     "text": [
      "tensor(12.)\n",
      "tensor([2., 2., 2.])\n"
     ]
    }
   ],
   "source": [
    "# Skalyar uchun \n",
    "x = torch.tensor(2.0 , requires_grad=True)\n",
    "y = x**3\n",
    "y.backward()\n",
    "print(x.grad)\n",
    "\n",
    "\n",
    "# Bir nechta elementlar bo'lsa\n",
    "x = torch.tensor([1.0,2.0,3.0], requires_grad=True)\n",
    "y = x*2\n",
    "\n",
    "\n",
    "# Agar ko'p element bo'lsa , gradient vektor kerak bo'ladi\n",
    "v = torch.tensor([1.0,1.0,1.0])\n",
    "y.backward(v)\n",
    "print(x.grad)"
   ]
  },
  {
   "cell_type": "markdown",
   "id": "30749324",
   "metadata": {},
   "source": [
    "Gradientlarni nolga tushurish\n",
    "*  Har bir .backward() chaqirganda gradientlar ustiga qo'shilib boradi. Shuning uchun har bir traning iteratsiyada  ularni 0 ga tushurush kerak\n"
   ]
  },
  {
   "cell_type": "code",
   "execution_count": 12,
   "id": "bd1e8eb5",
   "metadata": {},
   "outputs": [
    {
     "name": "stdout",
     "output_type": "stream",
     "text": [
      "Iter 0 , grad = 2.0\n",
      "Iter 1 , grad = 2.0\n",
      "Iter 2 , grad = 2.0\n"
     ]
    }
   ],
   "source": [
    "x = torch.tensor(1.0 , requires_grad=True)\n",
    "\n",
    "for i in range(3):\n",
    "    y = x * 2\n",
    "    y.backward()\n",
    "    print(f\"Iter {i} , grad = {x.grad}\")\n",
    "    x.grad.zero_()"
   ]
  },
  {
   "cell_type": "markdown",
   "id": "1218e33a",
   "metadata": {},
   "source": [
    "Computational Graph tushunchasi\n",
    "* PyTorch har bir   operatsiyani  \"graph\" ga yozib boradi. Har bir node- tensor, har bir edge - operatsiya.\n"
   ]
  },
  {
   "cell_type": "code",
   "execution_count": 13,
   "id": "b101d2da",
   "metadata": {},
   "outputs": [
    {
     "name": "stdout",
     "output_type": "stream",
     "text": [
      "tensor(12.)\n"
     ]
    }
   ],
   "source": [
    "x = torch.tensor(2.0 , requires_grad=True)\n",
    "y = x ** 2\n",
    "z = 3 * y + 4\n",
    "\n",
    "\n",
    "z.backward()\n",
    "print(x.grad)"
   ]
  }
 ],
 "metadata": {
  "kernelspec": {
   "display_name": "Python 3",
   "language": "python",
   "name": "python3"
  },
  "language_info": {
   "codemirror_mode": {
    "name": "ipython",
    "version": 3
   },
   "file_extension": ".py",
   "mimetype": "text/x-python",
   "name": "python",
   "nbconvert_exporter": "python",
   "pygments_lexer": "ipython3",
   "version": "3.11.9"
  }
 },
 "nbformat": 4,
 "nbformat_minor": 5
}
