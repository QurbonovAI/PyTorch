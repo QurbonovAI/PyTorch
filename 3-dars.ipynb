{
 "cells": [
  {
   "cell_type": "markdown",
   "id": "7f69eef2",
   "metadata": {},
   "source": [
    "# Neural Network Fundamentals\n",
    "* torch.nn moduli bilan tanishish\n",
    "* nn.Module va custom model yaratish\n",
    "* nn.Linear, nn.Conv2d , nn.ReLU, nn.Sigmoid, nn.Softmax\n",
    "* forward() funksiyasi\n",
    "* torch.nn.functional (F modulida funksiyalar)\n"
   ]
  },
  {
   "cell_type": "markdown",
   "id": "bbe1ead6",
   "metadata": {},
   "source": [
    "Neural Network Foundamentals\n"
   ]
  },
  {
   "cell_type": "markdown",
   "id": "c2dbb7a2",
   "metadata": {},
   "source": [
    "1. torch.nn modeli bilan tanishish\n",
    "Pytorchda neyron tarmoqlarni qurish uchun torch.nn moduli ishlatiladi.\n",
    "U quydagilarni beradi:\n",
    " * Layerlar (masalan, nn.Linear , nn.Conv2d)\n",
    " * Aktivatsiya funksiyalari (nn.ReLU , nn.Sigmoid, nn.Softmax),\n",
    " * Loss funskiyalari (nn.CrossEntropyLoss , nn.MSELoss),\n",
    " * Modul sinfi (nn.Module) -> custom   model yozish uchun"
   ]
  },
  {
   "cell_type": "code",
   "execution_count": 1,
   "id": "75ddf3c4",
   "metadata": {},
   "outputs": [
    {
     "data": {
      "text/plain": [
       "SimpleNN(\n",
       "  (fc1): Linear(in_features=2, out_features=4, bias=True)\n",
       "  (fc2): Linear(in_features=4, out_features=1, bias=True)\n",
       ")"
      ]
     },
     "execution_count": 1,
     "metadata": {},
     "output_type": "execute_result"
    }
   ],
   "source": [
    "# 2. nn.module va  custom model yaratish\n",
    "# nn.module -> bu barcha model va layerlarning asosiy classi. Siz o'z modelingizni  yaratmoqchi bo'lsangiz, undan meros olasiz\n",
    "\n",
    "import torch\n",
    "import torch.nn  as nn\n",
    "\n",
    "# Oddiy model  (2 qatlamli fully connected)\n",
    "class SimpleNN(nn.Module):\n",
    "    def __init__(self):\n",
    "        super(SimpleNN , self).__init__()\n",
    "        self.fc1 = nn.Linear(2,4) # Kirish 2 | Chiqish 4 \n",
    "        self.fc2 = nn.Linear(4,1) # Kirich 4 | Chiqish 1\n",
    "        \n",
    "    def forward(self , x): # Forward pass (data qaday oqadi)\n",
    "        x = torch.relu(self.fc1(x)) # ReLU aktivatsiya\n",
    "        x = torch.sigmoid(self.fc2(x)) # Sigmoid aktivatsiya\n",
    "        return x\n",
    "    \n",
    "# Model yaratish\n",
    "model = SimpleNN()\n",
    "model "
   ]
  },
  {
   "cell_type": "markdown",
   "id": "8b02c548",
   "metadata": {},
   "source": [
    "Muhim Layerlar\n",
    "* nn.linear\n",
    "* Fully connected qatlam.\n",
    "* Formulasi y = xw + b"
   ]
  },
  {
   "cell_type": "code",
   "execution_count": 2,
   "id": "83e78713",
   "metadata": {},
   "outputs": [],
   "source": [
    "# Bu nn.Linear ni vazifasi -> Har bir inputni har bir output bilan bog'laydi. Formulasi y=xw+b\n",
    "# Nima  uchun ishlatiladi\n",
    "# Chuqur o'rganishda yakuniy    qaror chiqarish blok sifatida ishlatiladi\n",
    "# Qaysi holatda ?\n",
    "# CNN yoki RNN oxirida classfication/regression qilishda\n",
    "# Oddiy tabular datasetlarida\n",
    "fc = nn.Linear(in_features=2, out_features=4)"
   ]
  },
  {
   "cell_type": "markdown",
   "id": "3dcb1682",
   "metadata": {},
   "source": [
    "nn.Conv2d\n",
    "* Convolution qatlam (Compyuter vision uchun asosiy blok)\n",
    "* Formulasi: Filterlar yordamida rasm ustida \"sliding window\" hisoblash"
   ]
  },
  {
   "cell_type": "code",
   "execution_count": 3,
   "id": "3e686985",
   "metadata": {},
   "outputs": [],
   "source": [
    "# Nima qiladi?\n",
    "# Rasm ustida   kichkina filtrlar \"sllding\" qilib, xususiyatlarni (edges , testures, patterns) chiqaradi.\n",
    "# Nima uchun ishlatiladi/\n",
    "# Compyuter vision tasmlarni tushunish uchun \n",
    "# Qaysi holatda?\n",
    "# Rasmni   tasnifi (classification)\n",
    "# Object detection , segmentation\n",
    "# Audio spectrogramda ham ishlatiladi\n",
    "# Misol: CNN modelining yuragi\n",
    "conv = nn.Conv2d(in_channels=3  , out_channels=16, kernel_size=3 , stride=1 , padding=1)"
   ]
  },
  {
   "cell_type": "markdown",
   "id": "89dfdbac",
   "metadata": {},
   "source": [
    "nn.ReLU\n",
    "* Aktivatsiya funksiyasi: f(x) = max(0,x)\n",
    "* Chiziqli bo'lmaganlik kiritiladi"
   ]
  },
  {
   "cell_type": "code",
   "execution_count": 4,
   "id": "b7096cb3",
   "metadata": {},
   "outputs": [],
   "source": [
    "# Nima uchun ishlatiladi?\n",
    "# Modelga non_linearity (chiziqsizlik) kiritadi. Agar faqat linear bo'lsa -> butun model faqat bitta chiziqli funksiya bo'ladi\n",
    "# Qaysi holatda?\n",
    "# Har qandaty yashirin qatlamdan keyin default ishlatiladi \n",
    "\n",
    "# Misol: Linear->ReLu->Linear->ReLU\n",
    "relu = nn.ReLU()"
   ]
  },
  {
   "cell_type": "markdown",
   "id": "cbd5483e",
   "metadata": {},
   "source": [
    "nn.Sigmoid  \n",
    "* Natijani [0,1] oraliqqa olib keladi.\n",
    "* Ko'pincha binary classification uchun ishlatiladi"
   ]
  },
  {
   "cell_type": "code",
   "execution_count": 5,
   "id": "a0e934ef",
   "metadata": {},
   "outputs": [],
   "source": [
    "# Nima qiladi?\n",
    "# Natijani [0,1] oraliqa olib keladi (ehtimollik sifatida  ishlatish mumkun)\n",
    "# Nima uchun ishlatialdi:\n",
    "# Binary Classification chiqishida\n",
    "# Logistik regressiya kabi holatlarda\n",
    "# Qaysi holatda\n",
    "# Agar natija True/False yoki 0/1 bo'lsa\n",
    "\n",
    "# Misol  \"rasmda mushuk bormi (ha/yo'q)\"\n",
    "\n",
    "sigmoid = nn.Sigmoid()"
   ]
  },
  {
   "cell_type": "markdown",
   "id": "64f49580",
   "metadata": {},
   "source": [
    "nn.SoftMax\n",
    "* Natijani ehtimollika aylantiradi (hamma chiqishlarning yig'indisi = 1)\n",
    "* Multi class classificationda ishlatiladi"
   ]
  },
  {
   "cell_type": "code",
   "execution_count": 6,
   "id": "c60a8942",
   "metadata": {},
   "outputs": [],
   "source": [
    "softmax = nn.Softmax(dim=1)"
   ]
  },
  {
   "cell_type": "markdown",
   "id": "159786dd",
   "metadata": {},
   "source": [
    "nn.Dropout\n",
    "* Nima qiladi\n",
    "* * Traning paytida bazi neyronlarni tasodifiy \"O'chirib qo'yadi\"\n",
    "* Nima uchun ishlatiladi.\n",
    "* *  Overfittingni kamaytirish uchun ishlatiladi\n",
    "* Qaysi holatlarda ishlatiladi?\n",
    "* *  Model juda katta bolsa va traning dataset kichkina bo'lsa\n"
   ]
  }
 ],
 "metadata": {
  "kernelspec": {
   "display_name": ".venv",
   "language": "python",
   "name": "python3"
  },
  "language_info": {
   "codemirror_mode": {
    "name": "ipython",
    "version": 3
   },
   "file_extension": ".py",
   "mimetype": "text/x-python",
   "name": "python",
   "nbconvert_exporter": "python",
   "pygments_lexer": "ipython3",
   "version": "3.13.3"
  }
 },
 "nbformat": 4,
 "nbformat_minor": 5
}
