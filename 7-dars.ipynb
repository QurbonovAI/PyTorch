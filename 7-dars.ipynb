{
 "cells": [
  {
   "cell_type": "markdown",
   "id": "9572195d",
   "metadata": {},
   "source": [
    "# Traning Loop\n",
    "* Forward pass\n",
    "* Loss hisoblash\n",
    "* Backward pass\n",
    "* Gradient update qilish\n",
    "* Epoch va batch sikllari\n",
    "* Traning va Validation ajratish\n"
   ]
  },
  {
   "cell_type": "code",
   "execution_count": null,
   "id": "46780e2d",
   "metadata": {},
   "outputs": [],
   "source": [
    "\n",
    "# Traning lopp bu modelni o'qitish jarajoni hisoblanadi\n",
    "# Traning loop bosqichlari \n",
    "# Forward pass\n",
    "# Modelga input berladi(x)\n",
    "# model chiqishi (y_pred) hisoblanadi\n",
    "# Bu yerda model bashorat qiladi\n",
    "\n",
    "\n",
    "# Loss hisoblash\n",
    "# Model chiqishini (y_pred) asl natija (y_ture) bilan solishtiramiz\n",
    "# loss funksiya xatoni hisoblab beradi\n",
    "# Bu bosqicha model qanchalik xato qilganini ko'rsatadi\n",
    "\n",
    "# Gradient update \n",
    "# optimizer.step() chaqiramiz\n",
    "# Gradientga qarab model parametlarni yangilaymiz\n",
    "# optimizer.zero_grad() bilan gradientlarini nolga tushunrib qo'yamiz\n",
    "\n",
    "# 5️⃣ Epoch va Batch sikllari\n",
    "# Batch → ma’lumotni kichik qismlarga bo‘lib o‘qitish (masalan, 100 ta rasmni birdan emas, 10 ta qilib).\n",
    "# Epoch → datasetni to‘liq bir marta o‘qitib chiqish.\n",
    "# 👉 Model odatda ko‘p epoch davomida o‘qitiladi.\n",
    "\n",
    "\n",
    "# 6️⃣ Training va Validation ajratish\n",
    "# Training set → modelni o‘qitish uchun.\n",
    "# Validation set → modelni tekshirish uchun (o‘qitish vaqtida ishlatilmaydi).\n",
    "# 👉 Validation modeli overfitting bo‘layaptimi yoki yo‘qmi, shuni ko‘rsatadi.\n",
    "\n",
    "\n",
    "\n",
    "for epoch in range(epochs):\n",
    "    for x_batch, y_batch in train_loader:\n",
    "        # Forward pass\n",
    "        y_pred = model(x_batch)\n",
    "\n",
    "        # Loss\n",
    "        loss = loss_fn(y_pred, y_batch)\n",
    "\n",
    "        # Backward pass\n",
    "        optimizer.zero_grad()\n",
    "        loss.backward()\n",
    "\n",
    "        # Update\n",
    "        optimizer.step()\n",
    "\n",
    "    # Validation bosqichi\n",
    "    with torch.no_grad():\n",
    "        val_loss = 0\n",
    "        for x_val, y_val in val_loader:\n",
    "            y_pred = model(x_val)\n",
    "            val_loss += loss_fn(y_pred, y_val).item()\n",
    "\n",
    "    print(f\"Epoch {epoch}, Train Loss: {loss.item():.4f}, Val Loss: {val_loss:.4f}\")\n"
   ]
  }
 ],
 "metadata": {
  "kernelspec": {
   "display_name": ".venv",
   "language": "python",
   "name": "python3"
  },
  "language_info": {
   "codemirror_mode": {
    "name": "ipython",
    "version": 3
   },
   "file_extension": ".py",
   "mimetype": "text/x-python",
   "name": "python",
   "nbconvert_exporter": "python",
   "pygments_lexer": "ipython3",
   "version": "3.13.3"
  }
 },
 "nbformat": 4,
 "nbformat_minor": 5
}
